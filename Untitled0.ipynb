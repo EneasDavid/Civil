{
  "nbformat": 4,
  "nbformat_minor": 0,
  "metadata": {
    "colab": {
      "provenance": [],
      "authorship_tag": "ABX9TyNi4q5Ra1me6TI2qCB9Ewtg",
      "include_colab_link": true
    },
    "kernelspec": {
      "name": "python3",
      "display_name": "Python 3"
    },
    "language_info": {
      "name": "python"
    }
  },
  "cells": [
    {
      "cell_type": "markdown",
      "metadata": {
        "id": "view-in-github",
        "colab_type": "text"
      },
      "source": [
        "<a href=\"https://colab.research.google.com/github/EneasDavid/Civil/blob/main/Untitled0.ipynb\" target=\"_parent\"><img src=\"https://colab.research.google.com/assets/colab-badge.svg\" alt=\"Open In Colab\"/></a>"
      ]
    },
    {
      "cell_type": "code",
      "execution_count": null,
      "metadata": {
        "colab": {
          "base_uri": "https://localhost:8080/"
        },
        "id": "jm34OR9oVkXN",
        "outputId": "f96848a5-35f5-42e2-86ce-842b76dbfdd1"
      },
      "outputs": [
        {
          "output_type": "stream",
          "name": "stdout",
          "text": [
            "Qual objeto da obra?\n",
            "construção de uma ubs\n",
            "\n",
            "ESTAMOS PROCESSANDO A INFORMAÇÃO\n",
            "\n",
            "Os profissionais recomendados para essa tarefa são:\n",
            "- pedreiro\n",
            "- servente\n",
            "- engenheiro civil\n",
            "- serralheiro\n"
          ]
        }
      ],
      "source": [
        "#atividades serve como dicionario para todas as funcionalidades de um proficional\n",
        "atividades = {\n",
        "    'pedreiro': ['construir', 'construção', 'reforma', 'reformar', 'assentamento', 'alvenaria', 'piso', 'forro', 'pavimentação', 'assentamento', 'alvenaria', 'reboco', 'concreto', 'argamassa'],\n",
        "    'servente': ['construir', 'construção', 'reforma', 'reformar', 'assentamento', 'limpeza', 'capinar', 'reboco', 'catatumba', 'tumulo', 'escavação', 'nivelamento'],\n",
        "    'encanador': ['banheiro', 'piscina', 'pia', 'sanitario', 'chuveiro', 'hidraulico', 'canalização', 'vazamento', 'tubulação', 'água', 'esgoto'],\n",
        "    'pintor': ['pintar','pintura', 'retoque', 'textura', 'invernizar', 'tinta', 'grafite'],\n",
        "    'eletricista': ['eletrico', 'instalar', 'tomada', 'interruptor', 'quadro de luz', 'fiação', 'iluminação', 'luminária'],\n",
        "    'marceneiro': ['porta', 'madeira', 'móvel', 'armário', 'prateleira', 'escada', 'cama', 'sofá'],\n",
        "    'vidraceiro': ['janela', 'vidro', 'box', 'espelho', 'blindex', 'esquadria'],\n",
        "    'empreiteira especializada': ['demolição', 'demolir', 'terraplenagem', 'pavimentação', 'pavimentar', 'asfaltamento', 'construção civil', 'construtora'],\n",
        "    'telhadista': ['telhado', 'pingueira', 'calha', 'cobertura', 'telha', 'impermeabilização', 'isolamento térmico', 'chaminé'],\n",
        "    'azulejista': ['piso', 'piscina', 'cerâmica', 'mármore', 'granito', 'pastilha', 'porcelanato', 'revestimento', 'mosaico', 'ladrilho'],\n",
        "    'gesseiro': ['gesso', 'forro', 'sancas', 'molduras', 'iluminação embutida', 'paredes de gesso', 'drywall'],\n",
        "    'bombeiro hidráulico': ['hidraulico', 'piscina', 'encanamento', 'válvula', \"caixa d'água\", 'bombas', 'pressurizador'],\n",
        "    'decorador': ['decoração', 'design de interiores', 'móveis', 'acabamento', 'ambiente', 'iluminação', 'cores', 'texturas'],\n",
        "    'designer de interiores': ['decoração', 'design de interiores', 'projeto', 'mobiliário', 'iluminação', 'acabamentos', 'cores', 'texturas'],\n",
        "    'arquiteto': ['projetar', 'reforma', 'arquitetura', 'construção civil', 'licenciamento', 'legalização', 'layout', 'paisagismo', 'iluminação', 'interiores', 'fachada', 'projeto estrutural', 'acompanhamento de obra'],\n",
        "    'engenheiro civil': ['projetar', 'pavimentação', 'pavimentar', 'construção', 'construir', 'reforma', 'reformar', 'acompanhar', 'estrutura', 'geotecnia', 'hidráulica', 'saneamento', 'transporte', 'proteção contra incêndios', 'perícias e avaliações'],\n",
        "    'serralheiro' : ['portão', 'ferro', 'academia', 'ubs', 'quadra', 'grades', 'estruturas metálicas', 'corrimão', 'guarda-corpo', 'escadas', 'portas de enrolar', 'coberturas metálicas']\n",
        "}\n",
        "\n",
        "# Ajudará (junto ao while) a identificar se é a primeira vez que é solicitado o objetivo\n",
        "contador = 0\n",
        "\n",
        "objetoObra = ''\n",
        "\n",
        "while not objetoObra:\n",
        "    if contador == 0:\n",
        "      #caso seja digitado em maiusculo podemos usar lower que serve para deixar todas as entradas em menuculos, assim não tendo erros na consulta do array\n",
        "        objetoObra = input(\"Qual objeto da obra?\\n\")\n",
        "        contador += 1\n",
        "    else:\n",
        "        print(\"\\nDesculpe, mas parece que você não informou nada\")\n",
        "        objetoObra = input(\"Qual objeto da obra?\\n\")\n",
        "\n",
        "print(\"\\nESTAMOS PROCESSANDO A INFORMAÇÃO\")\n",
        "\n",
        "# O comando split divide a string de entrada em um array de palavras para poder analisar se há alguma referência como o dicionário supracitado\n",
        "palavrasObjeto = objetoObra.split(\" \")\n",
        "\n",
        "profissionais_recomendados = []\n",
        "\n",
        "for palavra in palavrasObjeto:\n",
        "    for profissional, atividades_profissional in atividades.items():\n",
        "        if palavra in atividades_profissional:\n",
        "            if profissional not in profissionais_recomendados:\n",
        "                profissionais_recomendados.append(profissional)\n",
        "\n",
        "if profissionais_recomendados:\n",
        "    print(\"\\nOs profissionais recomendados para essa tarefa são:\")\n",
        "    for profissional in profissionais_recomendados:\n",
        "        print(\"- \" + profissional)\n",
        "else:\n",
        "    print(\"Desculpe, mas por se tratar de um projeto de avaliação de conhecimentos de uma matéria de introdução, não possuo capacidade computacional para ajudar com esse objetivo.\")"
      ]
    }
  ]
}